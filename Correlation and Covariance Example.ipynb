{
 "cells": [
  {
   "cell_type": "code",
   "execution_count": 65,
   "metadata": {
    "collapsed": false
   },
   "outputs": [],
   "source": [
    "from pandas import Series, DataFrame\n",
    "import pandas as pd, numpy as np, pandas_datareader as pdr\n",
    "%matplotlib inline"
   ]
  },
  {
   "cell_type": "code",
   "execution_count": 94,
   "metadata": {
    "collapsed": false
   },
   "outputs": [],
   "source": [
    "all_data = {}\n",
    "for ticker in ['AAPL', 'BLK', 'DOM.L', 'TW.L']:\n",
    "    all_data[ticker] = pdr.get_data_yahoo(ticker, '1/1/2012', '1/1/2017')"
   ]
  },
  {
   "cell_type": "code",
   "execution_count": 97,
   "metadata": {
    "collapsed": true
   },
   "outputs": [],
   "source": [
    "price = DataFrame({tic: data['Adj Close']\n",
    "                   for tic, data in all_data.iteritems()})\n",
    "volume = DataFrame({tic: data['Volume']\n",
    "                   for tic, data in all_data.iteritems()})"
   ]
  },
  {
   "cell_type": "code",
   "execution_count": 96,
   "metadata": {
    "collapsed": false
   },
   "outputs": [
    {
     "data": {
      "text/html": [
       "<div>\n",
       "<table border=\"1\" class=\"dataframe\">\n",
       "  <thead>\n",
       "    <tr style=\"text-align: right;\">\n",
       "      <th></th>\n",
       "      <th>AAPL</th>\n",
       "      <th>BLK</th>\n",
       "      <th>DOM.L</th>\n",
       "      <th>TW.L</th>\n",
       "    </tr>\n",
       "    <tr>\n",
       "      <th>Date</th>\n",
       "      <th></th>\n",
       "      <th></th>\n",
       "      <th></th>\n",
       "      <th></th>\n",
       "    </tr>\n",
       "  </thead>\n",
       "  <tbody>\n",
       "    <tr>\n",
       "      <th>2012-01-02</th>\n",
       "      <td>NaN</td>\n",
       "      <td>NaN</td>\n",
       "      <td>NaN</td>\n",
       "      <td>NaN</td>\n",
       "    </tr>\n",
       "    <tr>\n",
       "      <th>2012-01-03</th>\n",
       "      <td>NaN</td>\n",
       "      <td>NaN</td>\n",
       "      <td>0.028074</td>\n",
       "      <td>-0.003478</td>\n",
       "    </tr>\n",
       "    <tr>\n",
       "      <th>2012-01-04</th>\n",
       "      <td>0.005374</td>\n",
       "      <td>-0.007227</td>\n",
       "      <td>0.066946</td>\n",
       "      <td>-0.009902</td>\n",
       "    </tr>\n",
       "    <tr>\n",
       "      <th>2012-01-05</th>\n",
       "      <td>0.011102</td>\n",
       "      <td>-0.003501</td>\n",
       "      <td>-0.003399</td>\n",
       "      <td>-0.001891</td>\n",
       "    </tr>\n",
       "    <tr>\n",
       "      <th>2012-01-06</th>\n",
       "      <td>0.010454</td>\n",
       "      <td>-0.001115</td>\n",
       "      <td>-0.006811</td>\n",
       "      <td>0.011915</td>\n",
       "    </tr>\n",
       "  </tbody>\n",
       "</table>\n",
       "</div>"
      ],
      "text/plain": [
       "                AAPL       BLK     DOM.L      TW.L\n",
       "Date                                              \n",
       "2012-01-02       NaN       NaN       NaN       NaN\n",
       "2012-01-03       NaN       NaN  0.028074 -0.003478\n",
       "2012-01-04  0.005374 -0.007227  0.066946 -0.009902\n",
       "2012-01-05  0.011102 -0.003501 -0.003399 -0.001891\n",
       "2012-01-06  0.010454 -0.001115 -0.006811  0.011915"
      ]
     },
     "execution_count": 96,
     "metadata": {},
     "output_type": "execute_result"
    }
   ],
   "source": [
    "returns = price.pct_change()\n",
    "returns.head()"
   ]
  },
  {
   "cell_type": "code",
   "execution_count": 84,
   "metadata": {
    "collapsed": false
   },
   "outputs": [
    {
     "data": {
      "text/plain": [
       "0.020461189540164938"
      ]
     },
     "execution_count": 84,
     "metadata": {},
     "output_type": "execute_result"
    }
   ],
   "source": [
    "returns.AAPL.corr(returns['DOM.L'])"
   ]
  },
  {
   "cell_type": "code",
   "execution_count": 85,
   "metadata": {
    "collapsed": false
   },
   "outputs": [
    {
     "data": {
      "text/html": [
       "<div>\n",
       "<table border=\"1\" class=\"dataframe\">\n",
       "  <thead>\n",
       "    <tr style=\"text-align: right;\">\n",
       "      <th></th>\n",
       "      <th>AAPL</th>\n",
       "      <th>BLK</th>\n",
       "      <th>DOM.L</th>\n",
       "      <th>TW.L</th>\n",
       "    </tr>\n",
       "  </thead>\n",
       "  <tbody>\n",
       "    <tr>\n",
       "      <th>AAPL</th>\n",
       "      <td>1.000000</td>\n",
       "      <td>0.382649</td>\n",
       "      <td>0.020461</td>\n",
       "      <td>0.188443</td>\n",
       "    </tr>\n",
       "    <tr>\n",
       "      <th>BLK</th>\n",
       "      <td>0.382649</td>\n",
       "      <td>1.000000</td>\n",
       "      <td>0.006145</td>\n",
       "      <td>0.355724</td>\n",
       "    </tr>\n",
       "    <tr>\n",
       "      <th>DOM.L</th>\n",
       "      <td>0.020461</td>\n",
       "      <td>0.006145</td>\n",
       "      <td>1.000000</td>\n",
       "      <td>-0.010223</td>\n",
       "    </tr>\n",
       "    <tr>\n",
       "      <th>TW.L</th>\n",
       "      <td>0.188443</td>\n",
       "      <td>0.355724</td>\n",
       "      <td>-0.010223</td>\n",
       "      <td>1.000000</td>\n",
       "    </tr>\n",
       "  </tbody>\n",
       "</table>\n",
       "</div>"
      ],
      "text/plain": [
       "           AAPL       BLK     DOM.L      TW.L\n",
       "AAPL   1.000000  0.382649  0.020461  0.188443\n",
       "BLK    0.382649  1.000000  0.006145  0.355724\n",
       "DOM.L  0.020461  0.006145  1.000000 -0.010223\n",
       "TW.L   0.188443  0.355724 -0.010223  1.000000"
      ]
     },
     "execution_count": 85,
     "metadata": {},
     "output_type": "execute_result"
    }
   ],
   "source": [
    "returns.corr()"
   ]
  },
  {
   "cell_type": "code",
   "execution_count": 87,
   "metadata": {
    "collapsed": false
   },
   "outputs": [
    {
     "data": {
      "text/plain": [
       "AAPL     0.382649\n",
       "BLK      1.000000\n",
       "DOM.L    0.006145\n",
       "TW.L     0.355724\n",
       "dtype: float64"
      ]
     },
     "execution_count": 87,
     "metadata": {},
     "output_type": "execute_result"
    }
   ],
   "source": [
    "returns.corrwith(returns.BLK)"
   ]
  },
  {
   "cell_type": "code",
   "execution_count": 88,
   "metadata": {
    "collapsed": false
   },
   "outputs": [
    {
     "data": {
      "text/html": [
       "<div>\n",
       "<table border=\"1\" class=\"dataframe\">\n",
       "  <thead>\n",
       "    <tr style=\"text-align: right;\">\n",
       "      <th></th>\n",
       "      <th>AAPL</th>\n",
       "      <th>BLK</th>\n",
       "      <th>DOM.L</th>\n",
       "      <th>TW.L</th>\n",
       "    </tr>\n",
       "  </thead>\n",
       "  <tbody>\n",
       "    <tr>\n",
       "      <th>AAPL</th>\n",
       "      <td>0.000272</td>\n",
       "      <td>0.000107</td>\n",
       "      <td>0.000029</td>\n",
       "      <td>0.000075</td>\n",
       "    </tr>\n",
       "    <tr>\n",
       "      <th>BLK</th>\n",
       "      <td>0.000107</td>\n",
       "      <td>0.000286</td>\n",
       "      <td>0.000009</td>\n",
       "      <td>0.000145</td>\n",
       "    </tr>\n",
       "    <tr>\n",
       "      <th>DOM.L</th>\n",
       "      <td>0.000029</td>\n",
       "      <td>0.000009</td>\n",
       "      <td>0.007216</td>\n",
       "      <td>-0.000021</td>\n",
       "    </tr>\n",
       "    <tr>\n",
       "      <th>TW.L</th>\n",
       "      <td>0.000075</td>\n",
       "      <td>0.000145</td>\n",
       "      <td>-0.000021</td>\n",
       "      <td>0.000579</td>\n",
       "    </tr>\n",
       "  </tbody>\n",
       "</table>\n",
       "</div>"
      ],
      "text/plain": [
       "           AAPL       BLK     DOM.L      TW.L\n",
       "AAPL   0.000272  0.000107  0.000029  0.000075\n",
       "BLK    0.000107  0.000286  0.000009  0.000145\n",
       "DOM.L  0.000029  0.000009  0.007216 -0.000021\n",
       "TW.L   0.000075  0.000145 -0.000021  0.000579"
      ]
     },
     "execution_count": 88,
     "metadata": {},
     "output_type": "execute_result"
    }
   ],
   "source": [
    "returns.cov()"
   ]
  },
  {
   "cell_type": "code",
   "execution_count": null,
   "metadata": {
    "collapsed": true
   },
   "outputs": [],
   "source": []
  }
 ],
 "metadata": {
  "kernelspec": {
   "display_name": "Python 2",
   "language": "python",
   "name": "python2"
  },
  "language_info": {
   "codemirror_mode": {
    "name": "ipython",
    "version": 2
   },
   "file_extension": ".py",
   "mimetype": "text/x-python",
   "name": "python",
   "nbconvert_exporter": "python",
   "pygments_lexer": "ipython2",
   "version": "2.7.13"
  }
 },
 "nbformat": 4,
 "nbformat_minor": 2
}
